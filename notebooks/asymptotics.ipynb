{
 "cells": [
  {
   "cell_type": "markdown",
   "metadata": {},
   "source": [
    "# Asymptotic Consistency"
   ]
  },
  {
   "cell_type": "markdown",
   "metadata": {},
   "source": [
    "The purpose of this script is exploring the asymptotic behaviour of the method"
   ]
  },
  {
   "cell_type": "code",
   "execution_count": 6,
   "metadata": {
    "vscode": {
     "languageId": "r"
    }
   },
   "outputs": [],
   "source": [
    "# scripts and libraries\n",
    "remove(list = ls())\n",
    "options(warn = -1)\n",
    "library(ggpattern)\n",
    "library(data.table)\n",
    "library(magrittr)\n",
    "library(ggplot2)\n",
    "library(latex2exp)\n",
    "library(xtable)\n",
    "\n",
    "source(\"../source/simulations.R\")\n",
    "source(\"../source/vectorial_methods.R\")\n",
    "source(\"../source/auxiliar_methods.R\")"
   ]
  },
  {
   "cell_type": "markdown",
   "metadata": {},
   "source": [
    "We set the corresponding parameters"
   ]
  },
  {
   "cell_type": "code",
   "execution_count": 7,
   "metadata": {
    "vscode": {
     "languageId": "r"
    }
   },
   "outputs": [],
   "source": [
    "m <- 11 # series' dimension\n",
    "r <- 9 # stable space's dimension\n",
    "S <- 500 # number of simulation\n",
    "crit <- \"SC(n)\" # criterio Johansen estimation\n",
    "ec_det <- \"none\" # non trend and seasonality for Johansen procedure\n",
    "pct <- \"5pct\" # Johansen's significance level\n",
    "test <- \"kpss\" # test to use in PLS o PCA options: \"adf\" and \"kpss\"\n",
    "persistence <- \"low\" ; dist <- \"normal\" # persistence and innovation process distribution\n",
    "dependence <- TRUE\n",
    "methods_colors <- c(\"PLS\" = \"#56B4E9\", \"PCA\" = \"#009E73\") \n",
    "methods_pattern <- c(\"PLS\" = \"stripe\", \"PCA\" = \"crosshatch\")"
   ]
  },
  {
   "cell_type": "markdown",
   "metadata": {},
   "source": [
    "The following function conducts a simulation study for analizing the asymptotic behaviour of \n",
    "$$ T\\lVert P_{\\beta_{\\perp}}\\hat{\\beta}_{\\text{PLS}} \\rVert$$"
   ]
  },
  {
   "cell_type": "code",
   "execution_count": 8,
   "metadata": {
    "vscode": {
     "languageId": "r"
    }
   },
   "outputs": [],
   "source": [
    "norm_beta <- function(seeds,Tt,S,m,r){\n",
    "    sample_norm_PLS <- c()\n",
    "    sample_norm_PCA <- c()\n",
    "    dist <- \"normal\" ; persistence <- \"low\"\n",
    "    # Shared Sigma_eps\n",
    "    set.seed(seeds[1])  # for reproducibility\n",
    "    if (dependence) {\n",
    "    Sigma_eps <- clusterGeneration::genPositiveDefMat(m, covMethod = \"eigen\")$Sigma\n",
    "    } else {\n",
    "    Sigma_eps <- sigma * diag(1, m, m)\n",
    "    }\n",
    "\n",
    "    # Shared stable basis\n",
    "    set.seed(seeds[2])  # shared seed for beta, beta_orto, alpha, gamma\n",
    "    I_m <- qr.Q(qr(matrix(rnorm(m^2), m, m)))\n",
    "    beta <- I_m[, 1:r]\n",
    "    beta_orto <- if (r < m) I_m[, (r + 1):m] else matrix(0, m, m)\n",
    "\n",
    "    # Alpha and gamma\n",
    "    alpha <- if (persistence == \"low\") runif(r, 0.1, 0.3) else runif(r, 0.3, 0.7)\n",
    "    gamma <- runif(ncol(beta_orto), -0.7, 0.7)\n",
    "\n",
    "    for(s in 1:S){\n",
    "        X <- X_simulation(seed = s,\n",
    "                        m = m, r = r, Tt = Tt + 200,\n",
    "                        beta = beta, beta_orto = beta_orto,\n",
    "                        alpha = alpha, gamma = gamma, Sigma_eps = Sigma_eps,dist = dist)\n",
    "\n",
    "        beta_teo <- as.matrix(X$beta) ; beta_teo_orto <- as.matrix(X$beta_orto)\n",
    "        P_beta <- beta_teo%*%solve(t(beta_teo)%*%beta_teo)%*%t(beta_teo)\n",
    "        P_beta_orto <- beta_teo_orto%*%solve(t(beta_teo_orto)%*%beta_teo_orto)%*%t(beta_teo_orto)\n",
    "    \n",
    "        X <- X$X[101:nrow(X$X), ]\n",
    "\n",
    "        # PLS\n",
    "        basis_PLS <- pls_alg(X) ; beta_PLS <- basis_PLS$PLS_w[,(m-r+1):m]\n",
    "        sample_norm_PLS <- c(sample_norm_PLS,Tt*norm(P_beta_orto%*%beta_PLS))\n",
    "\n",
    "        # PCA\n",
    "        basis_PCA <- pca_alg(scale(X)) ; beta_PCA <- basis_PCA[,(m-r+1):m]\n",
    "        sample_norm_PCA <- c(sample_norm_PCA,Tt*norm(P_beta_orto%*%beta_PCA))\n",
    "        \n",
    "    }\n",
    "    return(data.frame(T=Tt, PLS=sample_norm_PLS, PCA=sample_norm_PCA))\n",
    "}"
   ]
  },
  {
   "cell_type": "markdown",
   "metadata": {},
   "source": [
    "We visualize the convergence"
   ]
  },
  {
   "cell_type": "code",
   "execution_count": 9,
   "metadata": {
    "vscode": {
     "languageId": "r"
    }
   },
   "outputs": [],
   "source": [
    "Tts <- seq(50,200,by = 50) # sequence of lengths\n",
    "\n",
    "sim_results <- do.call(\"rbind\",lapply(Tts,norm_beta,seeds = c(12,1123),S=S,m=m,r=r))%>% tidyr::pivot_longer(-T,names_to = \"Estimator\",\n",
    "                                                                    values_to = \"estimate\") "
   ]
  },
  {
   "cell_type": "markdown",
   "metadata": {},
   "source": [
    "And obtain the plot"
   ]
  },
  {
   "cell_type": "code",
   "execution_count": 10,
   "metadata": {
    "vscode": {
     "languageId": "r"
    }
   },
   "outputs": [],
   "source": [
    "gg_asymptotics <- ggplot(sim_results, aes(x = estimate, color = Estimator, fill = Estimator, pattern = Estimator,\n",
    "                        pattern_colour = Estimator)) +\n",
    "                      facet_wrap(~T, ncol = 2, scales = \"free_y\", labeller = \"label_both\") +\n",
    "                      geom_density_pattern(\n",
    "                        alpha = 0.2,\n",
    "                        pattern_spacing = 0.02,   # tighter spacing = thinner feel\n",
    "                        pattern_size = 0.2        # thinner pattern lines\n",
    "                      ) +\n",
    "                      labs(x = \"Value\", y = \"Density\") +\n",
    "                      theme(legend.position = \"bottom\") + \n",
    "                      mytheme +\n",
    "                      scale_fill_manual(values = methods_colors) +\n",
    "                      scale_color_manual(values = methods_colors) +\n",
    "                      scale_pattern_fill_manual(values = methods_pattern) +\n",
    "                      scale_pattern_colour_manual(values = methods_colors)  # This is the key addition\n",
    "\n",
    "ggsave(gg_asymptotics, filename = \"../images/Figure_A1.pdf\", width = 12, height = 8)"
   ]
  }
 ],
 "metadata": {
  "kernelspec": {
   "display_name": "R",
   "language": "R",
   "name": "ir"
  },
  "language_info": {
   "codemirror_mode": "r",
   "file_extension": ".r",
   "mimetype": "text/x-r-source",
   "name": "R",
   "pygments_lexer": "r",
   "version": "4.1.2"
  }
 },
 "nbformat": 4,
 "nbformat_minor": 2
}
