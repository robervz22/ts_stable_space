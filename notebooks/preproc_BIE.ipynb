{
 "cells": [
  {
   "cell_type": "markdown",
   "id": "8a9d4a75",
   "metadata": {},
   "source": [
    "# Preprocessing Practical Example"
   ]
  },
  {
   "cell_type": "markdown",
   "id": "ff7cb6f7",
   "metadata": {},
   "source": [
    "## High dimensional"
   ]
  },
  {
   "cell_type": "markdown",
   "id": "bc6117a9",
   "metadata": {},
   "source": [
    "In this notebook, we preprocess the data from the National Institute of Statistics and Geography (INEGI) regarding different economic indicators in Mexico\n"
   ]
  },
  {
   "cell_type": "code",
   "execution_count": 1,
   "id": "9187474d",
   "metadata": {
    "vscode": {
     "languageId": "r"
    }
   },
   "outputs": [],
   "source": [
    "# packages\n",
    "remove(list = ls())\n",
    "options(warn = -1)\n",
    "suppressMessages(library(data.table))\n",
    "suppressMessages(library(magrittr))\n",
    "suppressMessages(library(ggplot2))\n",
    "suppressMessages(library(GGally))\n",
    "suppressMessages(library(imputeTS))\n",
    "suppressMessages(library(seasonal))\n",
    "\n",
    "\n",
    "source(\"../source/simulations.R\")\n",
    "source(\"../source/vectorial_methods.R\")\n",
    "source(\"../source/auxiliar_methods.R\")"
   ]
  },
  {
   "cell_type": "markdown",
   "id": "86ea0797",
   "metadata": {},
   "source": [
    "We read the databases"
   ]
  },
  {
   "cell_type": "code",
   "execution_count": 2,
   "id": "517857bd",
   "metadata": {
    "vscode": {
     "languageId": "r"
    }
   },
   "outputs": [],
   "source": [
    "# Raw data\n",
    "df_BIE <- read.csv(\"../databases/data_BIE.csv\", header = TRUE, row.names = 1)\n",
    "catalogue_BIE <- read.csv(\"../databases/catalogue_BIE.csv\")\n",
    "df_BIE <- na.omit(df_BIE)"
   ]
  },
  {
   "cell_type": "code",
   "execution_count": 3,
   "id": "6a6d0983",
   "metadata": {
    "vscode": {
     "languageId": "r"
    }
   },
   "outputs": [
    {
     "data": {
      "text/html": [
       "<style>\n",
       ".list-inline {list-style: none; margin:0; padding: 0}\n",
       ".list-inline>li {display: inline-block}\n",
       ".list-inline>li:not(:last-child)::after {content: \"\\00b7\"; padding: 0 .5ex}\n",
       "</style>\n",
       "<ol class=list-inline><li>96</li><li>205</li></ol>\n"
      ],
      "text/latex": [
       "\\begin{enumerate*}\n",
       "\\item 96\n",
       "\\item 205\n",
       "\\end{enumerate*}\n"
      ],
      "text/markdown": [
       "1. 96\n",
       "2. 205\n",
       "\n",
       "\n"
      ],
      "text/plain": [
       "[1]  96 205"
      ]
     },
     "metadata": {},
     "output_type": "display_data"
    }
   ],
   "source": [
    "dim(df_BIE)"
   ]
  },
  {
   "cell_type": "markdown",
   "id": "c7067071",
   "metadata": {},
   "source": [
    "The database is:\n",
    "\n",
    "- `data_BIE.csv`: A set of $m=205$ economic indicators.\n",
    "\n",
    "We use the period of time where all the variables are available, this period is since January 2017. \n",
    "\n",
    "The series has montly frequency, thus it has a length $T=96$, then $m>T$ that it is a characteristic in the high-dimensional setting. \n"
   ]
  },
  {
   "cell_type": "code",
   "execution_count": 4,
   "id": "f8555be3",
   "metadata": {
    "vscode": {
     "languageId": "r"
    }
   },
   "outputs": [],
   "source": [
    "#############\n",
    "# TS format #\n",
    "#############\n",
    "start <- \"2017/01\"\n",
    "d <- 12\n",
    "\n",
    "# dates\n",
    "dates_BIE <- rownames(df_BIE)[which(rownames(df_BIE) == start):nrow(df_BIE)]\n",
    "df_BIE <- df_BIE[dates_BIE, ]\n",
    "variables_BIE <- colnames(df_BIE)\n",
    "\n",
    "# nans\n",
    "for (i in 1:length(variables_BIE)) {\n",
    "  ts_aux <- ts(df_BIE[, variables_BIE[i]][!is.na(df_BIE[, variables_BIE[i]])],\n",
    "    start = as.numeric(substring(start, 1, 4)), frequency = d\n",
    "  )\n",
    "  df_BIE[1:length(ts_aux), variables_BIE[i]] <- ts_aux\n",
    "}\n",
    "df_BIE <- na_kalman(df_BIE)"
   ]
  },
  {
   "cell_type": "markdown",
   "id": "fa52f882",
   "metadata": {},
   "source": [
    "The basic assumptions in the paper are that the data does not have an *stational* neither a *deterministic* component. \n",
    "\n",
    "First, we use the suggestion in the paper removing a linear trend.\n"
   ]
  },
  {
   "cell_type": "code",
   "execution_count": 5,
   "id": "9698bb87",
   "metadata": {
    "vscode": {
     "languageId": "r"
    }
   },
   "outputs": [],
   "source": [
    "#################\n",
    "# linear trends #\n",
    "#################\n",
    "data_trend <- matrix(0, nrow = nrow(df_BIE), ncol = ncol(df_BIE))\n",
    "coefs_trend <- matrix(0, nrow = ncol(df_BIE), ncol = 2)\n",
    "colnames(data_trend) <- colnames(df_BIE)\n",
    "rownames(coefs_trend) <- colnames(df_BIE)\n",
    "colnames(coefs_trend) <- c(\"const\", \"slope\")\n",
    "\n",
    "alpha <- 0.05 # nivel de significancia de los coeficientes\n",
    "\n",
    "time <- 1:nrow(df_BIE)\n",
    "log_time <- log(time)\n",
    "\n",
    "for (i in 1:length(variables_BIE)) {\n",
    "    aux_reg <- lm(df_BIE[, variables_BIE[i]] ~ time)\n",
    "    summary_aux_reg <- summary(aux_reg)$coefficients\n",
    "    # coefs\n",
    "    if (summary_aux_reg[, 4][[1]] < alpha) coefs_trend[variables_BIE[i], \"const\"] <- aux_reg$coef[[1]]\n",
    "    if (summary_aux_reg[, 4][[2]] < alpha) coefs_trend[variables_BIE[i], \"slope\"] <- aux_reg$coef[[2]]\n",
    "    # detrend\n",
    "    data_trend[, variables_BIE[i]] <- coefs_trend[i, \"const\"] + coefs_trend[i, \"slope\"] * time\n",
    "    # update\n",
    "    df_BIE[, variables_BIE[i]] <- df_BIE[, variables_BIE[i]] - data_trend[, variables_BIE[i]]\n",
    "}"
   ]
  },
  {
   "cell_type": "markdown",
   "id": "75c12cb0",
   "metadata": {},
   "source": [
    "Now, we do the same using the stational flag  `SA` in `catalogue_inflation.csv`"
   ]
  },
  {
   "cell_type": "code",
   "execution_count": 6,
   "id": "d57d9443",
   "metadata": {
    "vscode": {
     "languageId": "r"
    }
   },
   "outputs": [],
   "source": [
    "###############\n",
    "# seasonality #\n",
    "###############\n",
    "data_seasonality <- matrix(0, nrow = nrow(df_BIE), ncol = ncol(df_BIE))\n",
    "colnames(data_seasonality) <- colnames(df_BIE)\n",
    "\n",
    "# stationality indicator\n",
    "ind_seas <- as.character(catalogue_BIE[catalogue_BIE[, \"SA\"] == 1, \"Short\"])\n",
    "\n",
    "# decomposition\n",
    "for (i in 1:length(ind_seas)) {\n",
    "    ts_aux <- ts(df_BIE[, ind_seas[i]], start = as.numeric(substring(start, 1, 4)), frequency = d)\n",
    "    descomp_aux <- decompose(ts_aux)\n",
    "\n",
    "    # seasonal component\n",
    "    data_seasonality[, ind_seas[i]] <- descomp_aux$seasonal\n",
    "\n",
    "    # stochastic part\n",
    "    df_BIE[, ind_seas[i]] <- df_BIE[, ind_seas[i]] - descomp_aux$seasonal\n",
    "}\n",
    "df_BIE <- apply(df_BIE, 2, function(x) x - mean(x, na.rm = TRUE))"
   ]
  },
  {
   "cell_type": "markdown",
   "id": "7ef5b2be",
   "metadata": {},
   "source": [
    "Testing for stationary on each serie. Count how many stationary series we have"
   ]
  },
  {
   "cell_type": "code",
   "execution_count": 7,
   "id": "f2f1606b",
   "metadata": {
    "vscode": {
     "languageId": "r"
    }
   },
   "outputs": [
    {
     "data": {
      "text/html": [
       "185"
      ],
      "text/latex": [
       "185"
      ],
      "text/markdown": [
       "185"
      ],
      "text/plain": [
       "[1] 185"
      ]
     },
     "metadata": {},
     "output_type": "display_data"
    }
   ],
   "source": [
    "df_BIE <- na.omit(df_BIE)\n",
    "sum(apply(df_BIE, 2, function(x) tseries::kpss.test(x)$p.value > 0.05))"
   ]
  },
  {
   "cell_type": "markdown",
   "id": "17b12a98",
   "metadata": {},
   "source": [
    "We save the preprocess dataset with the name `variables_BIE.csv` on `databases` directory."
   ]
  },
  {
   "cell_type": "code",
   "execution_count": 8,
   "id": "9c72f194",
   "metadata": {
    "vscode": {
     "languageId": "r"
    }
   },
   "outputs": [],
   "source": [
    "dt_BIE <- as.data.table(df_BIE)\n",
    "dt_BIE[,Date:= lubridate::ym(dates_BIE)]\n",
    "setcolorder(dt_BIE, c(\"Date\", setdiff(names(dt_BIE), \"Date\")))\n",
    "fwrite(dt_BIE,file = \"../databases/variables_BIE.csv\")"
   ]
  }
 ],
 "metadata": {
  "kernelspec": {
   "display_name": "R",
   "language": "R",
   "name": "ir"
  },
  "language_info": {
   "codemirror_mode": "r",
   "file_extension": ".r",
   "mimetype": "text/x-r-source",
   "name": "R",
   "pygments_lexer": "r",
   "version": "4.1.2"
  }
 },
 "nbformat": 4,
 "nbformat_minor": 5
}
