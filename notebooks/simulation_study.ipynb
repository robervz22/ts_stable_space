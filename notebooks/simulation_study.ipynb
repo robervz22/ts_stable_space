{
 "cells": [
  {
   "cell_type": "markdown",
   "id": "2bbe477d",
   "metadata": {},
   "source": [
    "# Simulation Study"
   ]
  },
  {
   "cell_type": "markdown",
   "id": "8c462e47",
   "metadata": {},
   "source": [
    "In this notebook, we reproduce the simulation study for the configurations stated. First, we import the corresponding R scripts and libraries needed. "
   ]
  },
  {
   "cell_type": "code",
   "execution_count": 1,
   "id": "73d8d748",
   "metadata": {
    "vscode": {
     "languageId": "r"
    }
   },
   "outputs": [],
   "source": [
    "# scripts and libraries\n",
    "remove(list = ls())\n",
    "options(warn = -1)\n",
    "suppressMessages(library(dplyr))\n",
    "suppressMessages(library(data.table))\n",
    "suppressMessages(library(xtable))\n",
    "\n",
    "source(\"../source/simulations.R\")\n",
    "source(\"../source/vectorial_methods.R\")\n",
    "source(\"../source/auxiliar_methods.R\")\n"
   ]
  },
  {
   "cell_type": "markdown",
   "id": "dbffcfbf",
   "metadata": {
    "vscode": {
     "languageId": "r"
    }
   },
   "source": [
    "## Low Dimensional Setting"
   ]
  },
  {
   "cell_type": "markdown",
   "id": "26cb7dde",
   "metadata": {},
   "source": [
    "The configuration for the low dimensional case is:"
   ]
  },
  {
   "cell_type": "code",
   "execution_count": 2,
   "id": "a16a33b7",
   "metadata": {
    "vscode": {
     "languageId": "r"
    }
   },
   "outputs": [],
   "source": [
    "m <- 11\n",
    "r_values <- c(10,9,8)\n",
    "i_values <- matrix(c(11,0,10,0,9,1,8,2),nrow=4,ncol=2,byrow = TRUE)\n",
    "rownames(i_values) <- c('Case 1','Case 2','Case 3','Case 4')\n",
    "Tt <- 100 # series length\n",
    "S <- 500 # number of simulation\n",
    "persistence <- \"low\" ; dist <- \"t\" # persistence and innovation process distribution\n",
    "dependence <- TRUE"
   ]
  },
  {
   "cell_type": "markdown",
   "id": "13cb3e74",
   "metadata": {},
   "source": [
    "We run the simulation"
   ]
  },
  {
   "cell_type": "code",
   "execution_count": 3,
   "id": "30a2e03e",
   "metadata": {
    "vscode": {
     "languageId": "r"
    }
   },
   "outputs": [],
   "source": [
    "# df_low_dimension <- run_simulation(c(1,1),m,r_values,i_values,Tt,S,\n",
    "#                     dist = dist, persistence = persistence, dependence = dependence)\n",
    "df_low_dimension <- read.csv(\"../databases/simulations_low_dimension.csv\")"
   ]
  },
  {
   "cell_type": "markdown",
   "id": "6984b2bf",
   "metadata": {},
   "source": [
    "Then, we preprocess the output for showing the results in a LaTeX table"
   ]
  },
  {
   "cell_type": "code",
   "execution_count": 4,
   "id": "bcd96286",
   "metadata": {
    "vscode": {
     "languageId": "r"
    }
   },
   "outputs": [],
   "source": [
    "dt_low_dimension <- as.data.table(df_low_dimension)\n",
    "dt_low_dimension[, mean_n_coint := sprintf(\"%.3f (%.3f)\", mean_n_coint, sd_n_coint)]\n",
    "dt_low_dimension[, mean_n_norms := sprintf(\"%.3f (%.3f)\", mean_n_norms, sd_n_norms)]\n",
    "\n",
    "# Remove SD columns as they are now embedded\n",
    "dt_low_dimension[, c(\"sd_n_coint\", \"sd_n_norms\") := NULL]\n",
    "dt_low_dimension[, c(\"i1\", \"i2\") := NULL]\n",
    "setnames(dt_low_dimension, old = c(\"mean_n_coint\",\"mean_n_norms\"),\n",
    "                     new = c(\"Dimension\", \"Subspace\"))"
   ]
  },
  {
   "cell_type": "markdown",
   "id": "60894621",
   "metadata": {},
   "source": [
    "We print the LaTeX table presented in the article"
   ]
  },
  {
   "cell_type": "code",
   "execution_count": 5,
   "id": "5fa5b297",
   "metadata": {
    "vscode": {
     "languageId": "r"
    }
   },
   "outputs": [
    {
     "name": "stdout",
     "output_type": "stream",
     "text": [
      "% latex table generated in R 4.1.2 by xtable 1.8-4 package\n",
      "% Wed May 21 13:56:57 2025\n",
      "\\begin{table}[ht]\n",
      "\\centering\n",
      "\\begin{tabular}{lrl}\n",
      "  \\hline\n",
      "Method & r & Subspace \\\\ \n",
      "  \\hline\n",
      "Johansen & 10 & 3.808 (0.532) \\\\ \n",
      "  PCA & 10 & 0.913 (0.500) \\\\ \n",
      "  PLS & 10 & 0.922 (0.508) \\\\ \n",
      "  Johansen & 9 & 3.540 (0.511) \\\\ \n",
      "  PCA & 9 & 1.288 (0.521) \\\\ \n",
      "  PLS & 9 & 1.197 (0.553) \\\\ \n",
      "  Johansen & 8 & 3.401 (0.423) \\\\ \n",
      "  PCA & 8 & 1.904 (0.348) \\\\ \n",
      "  PLS & 8 & 1.819 (0.395) \\\\ \n",
      "   \\hline\n",
      "\\end{tabular}\n",
      "\\caption{Case 1} \n",
      "\\end{table}\n",
      "% latex table generated in R 4.1.2 by xtable 1.8-4 package\n",
      "% Wed May 21 13:56:57 2025\n",
      "\\begin{table}[ht]\n",
      "\\centering\n",
      "\\begin{tabular}{lrl}\n",
      "  \\hline\n",
      "Method & r & Subspace \\\\ \n",
      "  \\hline\n",
      "Johansen & 10 & 3.769 (0.499) \\\\ \n",
      "  PCA & 10 & 1.047 (0.516) \\\\ \n",
      "  PLS & 10 & 0.994 (0.480) \\\\ \n",
      "  Johansen & 9 & 3.560 (0.490) \\\\ \n",
      "  PCA & 9 & 1.355 (0.504) \\\\ \n",
      "  PLS & 9 & 1.225 (0.547) \\\\ \n",
      "  Johansen & 8 & 3.371 (0.408) \\\\ \n",
      "  PCA & 8 & 1.935 (0.347) \\\\ \n",
      "  PLS & 8 & 1.863 (0.367) \\\\ \n",
      "   \\hline\n",
      "\\end{tabular}\n",
      "\\caption{Case 2} \n",
      "\\end{table}\n",
      "% latex table generated in R 4.1.2 by xtable 1.8-4 package\n",
      "% Wed May 21 13:56:57 2025\n",
      "\\begin{table}[ht]\n",
      "\\centering\n",
      "\\begin{tabular}{lrl}\n",
      "  \\hline\n",
      "Method & r & Subspace \\\\ \n",
      "  \\hline\n",
      "Johansen & 10 & 3.523 (0.344) \\\\ \n",
      "  PCA & 10 & 2.121 (0.675) \\\\ \n",
      "  PLS & 10 & 1.887 (0.543) \\\\ \n",
      "  Johansen & 9 & 3.096 (0.482) \\\\ \n",
      "  PCA & 9 & 1.580 (0.505) \\\\ \n",
      "  PLS & 9 & 1.428 (0.453) \\\\ \n",
      "  Johansen & 8 & 3.057 (0.378) \\\\ \n",
      "  PCA & 8 & 1.979 (0.311) \\\\ \n",
      "  PLS & 8 & 1.875 (0.296) \\\\ \n",
      "   \\hline\n",
      "\\end{tabular}\n",
      "\\caption{Case 3} \n",
      "\\end{table}\n",
      "% latex table generated in R 4.1.2 by xtable 1.8-4 package\n",
      "% Wed May 21 13:56:57 2025\n",
      "\\begin{table}[ht]\n",
      "\\centering\n",
      "\\begin{tabular}{lrl}\n",
      "  \\hline\n",
      "Method & r & Subspace \\\\ \n",
      "  \\hline\n",
      "Johansen & 10 & 4.404 (0.230) \\\\ \n",
      "  PCA & 10 & 1.766 (0.502) \\\\ \n",
      "  PLS & 10 & 1.598 (0.387) \\\\ \n",
      "  Johansen & 9 & 3.118 (0.452) \\\\ \n",
      "  PCA & 9 & 1.497 (0.437) \\\\ \n",
      "  PLS & 9 & 1.406 (0.399) \\\\ \n",
      "  Johansen & 8 & 3.233 (0.443) \\\\ \n",
      "  PCA & 8 & 2.032 (0.254) \\\\ \n",
      "  PLS & 8 & 1.991 (0.272) \\\\ \n",
      "   \\hline\n",
      "\\end{tabular}\n",
      "\\caption{Case 4} \n",
      "\\end{table}\n"
     ]
    }
   ],
   "source": [
    "# generate tables for each case \n",
    "cases <- rev(unique(dt_low_dimension[,Case]))\n",
    "for(case in cases){\n",
    "    dt_aux <- dt_low_dimension[Case == case] ; dt_aux[,c(\"Case\",\"m\",\"Dimension\",\"X\") := NULL]\n",
    "    dt_aux <- dt_aux[order(r,decreasing = TRUE)]\n",
    "    print(xtable(dt_aux, caption = case, digits = 0), include.rownames = FALSE)\n",
    "}"
   ]
  },
  {
   "cell_type": "markdown",
   "id": "8701ca0b",
   "metadata": {},
   "source": [
    "## High Dimensional Setting"
   ]
  },
  {
   "cell_type": "markdown",
   "id": "50b10144",
   "metadata": {},
   "source": [
    "Now, we set the cases for the high dimensional setting"
   ]
  },
  {
   "cell_type": "code",
   "execution_count": 6,
   "id": "cc1d454e",
   "metadata": {
    "vscode": {
     "languageId": "r"
    }
   },
   "outputs": [],
   "source": [
    "m <- 300\n",
    "r_values <- c(250,200,150)\n",
    "i_values <- matrix(c(300,0,250,10,200,20,150,30),nrow=4,ncol=2,byrow = TRUE)\n",
    "rownames(i_values) <- c('Case 1','Case 2','Case 3','Case 4')\n",
    "Tt <- 100 # series length\n",
    "S <- 100 # number of simulation\n",
    "persistence <- \"low\" ; dist <- \"t\" # persistence and innovation process distribution\n",
    "dependence <- TRUE"
   ]
  },
  {
   "cell_type": "markdown",
   "id": "df5fdfa8",
   "metadata": {},
   "source": [
    "We run the simulation"
   ]
  },
  {
   "cell_type": "code",
   "execution_count": 10,
   "id": "afbe7cbe",
   "metadata": {
    "vscode": {
     "languageId": "r"
    }
   },
   "outputs": [],
   "source": [
    "# df_high_dimension <- run_simulation(c(1,1),m,r_values,i_values,Tt,S,\n",
    "#                     dist = dist,persistence = persistence, dependence = dependence)\n",
    "df_high_dimension <- read.csv(\"../databases/simulations_high_dimension.csv\")"
   ]
  },
  {
   "cell_type": "markdown",
   "id": "4b33cc15",
   "metadata": {},
   "source": [
    "We preprocess the output"
   ]
  },
  {
   "cell_type": "code",
   "execution_count": 11,
   "id": "554142f9",
   "metadata": {
    "vscode": {
     "languageId": "r"
    }
   },
   "outputs": [],
   "source": [
    "dt_high_dimension <- as.data.table(df_high_dimension)\n",
    "dt_high_dimension[, mean_n_coint := sprintf(\"%.3f (%.3f)\", mean_n_coint, sd_n_coint)]\n",
    "dt_high_dimension[, mean_n_norms := sprintf(\"%.3f (%.3f)\", mean_n_norms, sd_n_norms)]\n",
    "\n",
    "# Remove SD columns as they are now embedded\n",
    "dt_high_dimension[, c(\"sd_n_coint\", \"sd_n_norms\") := NULL]\n",
    "dt_high_dimension[, c(\"i1\", \"i2\") := NULL]\n",
    "setnames(dt_high_dimension, old = c(\"mean_n_coint\",\"mean_n_norms\"),\n",
    "                     new = c(\"Dimension\", \"Subspace\"))"
   ]
  },
  {
   "cell_type": "markdown",
   "id": "8775a129",
   "metadata": {},
   "source": [
    "Finally, we generate the tables"
   ]
  },
  {
   "cell_type": "code",
   "execution_count": 12,
   "id": "efc3b4c4",
   "metadata": {
    "vscode": {
     "languageId": "r"
    }
   },
   "outputs": [
    {
     "name": "stdout",
     "output_type": "stream",
     "text": [
      "% latex table generated in R 4.1.2 by xtable 1.8-4 package\n",
      "% Wed May 21 14:06:31 2025\n",
      "\\begin{table}[ht]\n",
      "\\centering\n",
      "\\begin{tabular}{lrl}\n",
      "  \\hline\n",
      "Method & r & Subspace \\\\ \n",
      "  \\hline\n",
      "PCA & 250 & 10.811 (0.075) \\\\ \n",
      "  PLS & 250 & 15.902 (0.071) \\\\ \n",
      "  PCA & 200 & 15.538 (0.028) \\\\ \n",
      "  PLS & 200 & 18.147 (0.039) \\\\ \n",
      "  PCA & 150 & 19.100 (0.024) \\\\ \n",
      "  PLS & 150 & 20.364 (0.027) \\\\ \n",
      "   \\hline\n",
      "\\end{tabular}\n",
      "\\caption{Case 1} \n",
      "\\end{table}\n",
      "% latex table generated in R 4.1.2 by xtable 1.8-4 package\n",
      "% Wed May 21 14:06:31 2025\n",
      "\\begin{table}[ht]\n",
      "\\centering\n",
      "\\begin{tabular}{lrl}\n",
      "  \\hline\n",
      "Method & r & Subspace \\\\ \n",
      "  \\hline\n",
      "PCA & 250 & 10.648 (0.137) \\\\ \n",
      "  PLS & 250 & 15.653 (0.070) \\\\ \n",
      "  PCA & 200 & 15.481 (0.075) \\\\ \n",
      "  PLS & 200 & 17.947 (0.034) \\\\ \n",
      "  PCA & 150 & 19.057 (0.056) \\\\ \n",
      "  PLS & 150 & 20.221 (0.025) \\\\ \n",
      "   \\hline\n",
      "\\end{tabular}\n",
      "\\caption{Case 2} \n",
      "\\end{table}\n",
      "% latex table generated in R 4.1.2 by xtable 1.8-4 package\n",
      "% Wed May 21 14:06:31 2025\n",
      "\\begin{table}[ht]\n",
      "\\centering\n",
      "\\begin{tabular}{lrl}\n",
      "  \\hline\n",
      "Method & r & Subspace \\\\ \n",
      "  \\hline\n",
      "PCA & 250 & 10.359 (0.172) \\\\ \n",
      "  PLS & 250 & 15.594 (0.055) \\\\ \n",
      "  PCA & 200 & 15.233 (0.148) \\\\ \n",
      "  PLS & 200 & 17.918 (0.040) \\\\ \n",
      "  PCA & 150 & 18.799 (0.148) \\\\ \n",
      "  PLS & 150 & 20.214 (0.025) \\\\ \n",
      "   \\hline\n",
      "\\end{tabular}\n",
      "\\caption{Case 3} \n",
      "\\end{table}\n",
      "% latex table generated in R 4.1.2 by xtable 1.8-4 package\n",
      "% Wed May 21 14:06:31 2025\n",
      "\\begin{table}[ht]\n",
      "\\centering\n",
      "\\begin{tabular}{lrl}\n",
      "  \\hline\n",
      "Method & r & Subspace \\\\ \n",
      "  \\hline\n",
      "PCA & 250 & 9.979 (0.249) \\\\ \n",
      "  PLS & 250 & 15.707 (0.065) \\\\ \n",
      "  PCA & 200 & 14.837 (0.242) \\\\ \n",
      "  PLS & 200 & 17.987 (0.035) \\\\ \n",
      "  PCA & 150 & 18.331 (0.232) \\\\ \n",
      "  PLS & 150 & 20.254 (0.032) \\\\ \n",
      "   \\hline\n",
      "\\end{tabular}\n",
      "\\caption{Case 4} \n",
      "\\end{table}\n"
     ]
    }
   ],
   "source": [
    "# generate tables for each case \n",
    "cases <- rev(unique(dt_high_dimension[,Case]))\n",
    "for(case in cases){\n",
    "    dt_aux <- dt_high_dimension[Case == case] ; dt_aux[,c(\"Case\",\"m\",\"Dimension\",\"X\") := NULL]\n",
    "    dt_aux <- dt_aux[order(r,decreasing = TRUE)]\n",
    "    print(xtable(dt_aux, caption = case), include.rownames = FALSE)\n",
    "}"
   ]
  }
 ],
 "metadata": {
  "kernelspec": {
   "display_name": "R",
   "language": "R",
   "name": "ir"
  },
  "language_info": {
   "codemirror_mode": "r",
   "file_extension": ".r",
   "mimetype": "text/x-r-source",
   "name": "R",
   "pygments_lexer": "r",
   "version": "4.1.2"
  }
 },
 "nbformat": 4,
 "nbformat_minor": 5
}
