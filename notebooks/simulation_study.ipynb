{
 "cells": [
  {
   "cell_type": "markdown",
   "id": "2bbe477d",
   "metadata": {},
   "source": [
    "# Simulation Study"
   ]
  },
  {
   "cell_type": "markdown",
   "id": "8c462e47",
   "metadata": {},
   "source": [
    "In this notebook, we reproduce the simulation study for the configurations stated. First, we import the corresponding R scripts and libraries needed. "
   ]
  },
  {
   "cell_type": "code",
   "execution_count": null,
   "id": "73d8d748",
   "metadata": {
    "vscode": {
     "languageId": "r"
    }
   },
   "outputs": [],
   "source": [
    "# scripts and libraries\n",
    "remove(list = ls())\n",
    "options(warn = -1)\n",
    "suppressMessages(library(dplyr))\n",
    "suppressMessages(library(data.table))\n",
    "suppressMessages(library(xtable))\n",
    "\n",
    "source(\"source/simulations.R\")\n",
    "source(\"source/vectorial_methods.R\")\n",
    "source(\"source/auxiliar_methods.R\")\n"
   ]
  },
  {
   "cell_type": "markdown",
   "id": "dbffcfbf",
   "metadata": {
    "vscode": {
     "languageId": "r"
    }
   },
   "source": [
    "## Low Dimensional Setting"
   ]
  },
  {
   "cell_type": "markdown",
   "id": "26cb7dde",
   "metadata": {},
   "source": [
    "The configuration for the low dimensional case is:"
   ]
  },
  {
   "cell_type": "code",
   "execution_count": null,
   "id": "a16a33b7",
   "metadata": {
    "vscode": {
     "languageId": "r"
    }
   },
   "outputs": [],
   "source": [
    "m <- 11\n",
    "r_values <- c(10,9,8)\n",
    "i_values <- matrix(c(11,0,10,0,9,1,8,2),nrow=4,ncol=2,byrow = TRUE)\n",
    "rownames(i_values) <- c('Case 1','Case 2','Case 3','Case 4')\n",
    "Tt <- 100 # series length\n",
    "S <- 500 # number of simulation\n",
    "persistence <- \"low\" ; dist <- \"t\" # persistence and innovation process distribution\n",
    "dependence <- TRUE"
   ]
  },
  {
   "cell_type": "markdown",
   "id": "13cb3e74",
   "metadata": {},
   "source": [
    "We run the simulation"
   ]
  },
  {
   "cell_type": "code",
   "execution_count": null,
   "id": "30a2e03e",
   "metadata": {
    "vscode": {
     "languageId": "r"
    }
   },
   "outputs": [],
   "source": [
    "df_low_dimension <- run_simulation(c(1,1),m,r_values,i_values,Tt,S,\n",
    "                    dist = dist, persistence = persistence, dependence = dependence)"
   ]
  },
  {
   "cell_type": "markdown",
   "id": "6984b2bf",
   "metadata": {},
   "source": [
    "Then, we preprocess the output for showing the results in a LaTeX table"
   ]
  },
  {
   "cell_type": "code",
   "execution_count": null,
   "id": "bcd96286",
   "metadata": {
    "vscode": {
     "languageId": "r"
    }
   },
   "outputs": [],
   "source": [
    "dt_low_dimension <- as.data.table(df_low_dimension)\n",
    "dt_low_dimension[, mean_n_coint := sprintf(\"%.3f (%.3f)\", mean_n_coint, sd_n_coint)]\n",
    "dt_low_dimension[, mean_n_norms := sprintf(\"%.3f (%.3f)\", mean_n_norms, sd_n_norms)]\n",
    "\n",
    "# Remove SD columns as they are now embedded\n",
    "dt_low_dimension[, c(\"sd_n_coint\", \"sd_n_norms\") := NULL]\n",
    "dt_low_dimension[, c(\"i1\", \"i2\") := NULL]\n",
    "setnames(dt_low_dimension, old = c(\"mean_n_coint\",\"mean_n_norms\"),\n",
    "                     new = c(\"Dimension\", \"Subspace\"))"
   ]
  },
  {
   "cell_type": "markdown",
   "id": "60894621",
   "metadata": {},
   "source": [
    "We print the LaTeX table presented in the article"
   ]
  },
  {
   "cell_type": "code",
   "execution_count": null,
   "id": "5fa5b297",
   "metadata": {
    "vscode": {
     "languageId": "r"
    }
   },
   "outputs": [],
   "source": [
    "# generate tables for each case \n",
    "cases <- rev(unique(dt_low_dimension[,Case]))\n",
    "for(case in cases){\n",
    "    dt_aux <- dt_low_dimension[Case == case] ; dt_aux[,c(\"Case\",\"m\",\"Dimension\") := NULL]\n",
    "    dt_aux <- dt_aux[order(r,decreasing = TRUE)]\n",
    "    print(xtable(dt_aux, caption = case, digits = 0), include.rownames = FALSE)\n",
    "}"
   ]
  },
  {
   "cell_type": "markdown",
   "id": "8701ca0b",
   "metadata": {},
   "source": [
    "## High Dimensional Setting"
   ]
  },
  {
   "cell_type": "markdown",
   "id": "50b10144",
   "metadata": {},
   "source": [
    "Now, we set the cases for the high dimensional setting"
   ]
  },
  {
   "cell_type": "code",
   "execution_count": null,
   "id": "cc1d454e",
   "metadata": {
    "vscode": {
     "languageId": "r"
    }
   },
   "outputs": [],
   "source": [
    "m <- 300\n",
    "r_values <- c(250,200,150)\n",
    "i_values <- matrix(c(300,0,250,10,200,20,150,30),nrow=4,ncol=2,byrow = TRUE)\n",
    "rownames(i_values) <- c('Case 1','Case 2','Case 3','Case 4')\n",
    "Tt <- 100 # series length\n",
    "S <- 100 # number of simulation\n",
    "persistence <- \"low\" ; dist <- \"t\" # persistence and innovation process distribution\n",
    "dependence <- TRUE"
   ]
  },
  {
   "cell_type": "markdown",
   "id": "df5fdfa8",
   "metadata": {},
   "source": [
    "We run the simulation"
   ]
  },
  {
   "cell_type": "code",
   "execution_count": null,
   "id": "afbe7cbe",
   "metadata": {
    "vscode": {
     "languageId": "r"
    }
   },
   "outputs": [],
   "source": [
    "df_high_dimension <- run_simulation(c(1,1),m,r_values,i_values,Tt,S,\n",
    "                    dist = dist,persistence = persistence, dependence = dependence)"
   ]
  },
  {
   "cell_type": "markdown",
   "id": "4b33cc15",
   "metadata": {},
   "source": [
    "We preprocess the output"
   ]
  },
  {
   "cell_type": "code",
   "execution_count": null,
   "id": "554142f9",
   "metadata": {
    "vscode": {
     "languageId": "r"
    }
   },
   "outputs": [],
   "source": [
    "dt_high_dimension <- as.data.table(df_high_dimension)\n",
    "dt_high_dimension[, mean_n_coint := sprintf(\"%.3f (%.3f)\", mean_n_coint, sd_n_coint)]\n",
    "dt_high_dimension[, mean_n_norms := sprintf(\"%.3f (%.3f)\", mean_n_norms, sd_n_norms)]\n",
    "dt_high_dimension[, mean_n_mse_est := sprintf(\"%.3f (%.3f)\", mean_n_mse_est, sd_n_mse_est)]\n",
    "\n",
    "# Remove SD columns as they are now embedded\n",
    "dt_high_dimension[, c(\"sd_n_coint\", \"sd_n_norms\", \"sd_n_mse_est\") := NULL]\n",
    "dt_high_dimension[, c(\"i1\", \"i2\") := NULL]\n",
    "setnames(dt_high_dimension, old = c(\"mean_n_coint\",\"mean_n_norms\",\"mean_n_mse_est\"),\n",
    "                     new = c(\"Dimension\", \"Subspace\", \"Projection\"))"
   ]
  },
  {
   "cell_type": "markdown",
   "id": "8775a129",
   "metadata": {},
   "source": [
    "Finally, we generate the tables"
   ]
  },
  {
   "cell_type": "code",
   "execution_count": null,
   "id": "efc3b4c4",
   "metadata": {
    "vscode": {
     "languageId": "r"
    }
   },
   "outputs": [],
   "source": [
    "# generate tables for each case \n",
    "cases <- rev(unique(dt_high_dimension[,Case]))\n",
    "for(case in cases){\n",
    "    dt_aux <- dt_high_dimension[Case == case] ; dt_aux[,c(\"Case\",\"m\",\"Dimension\") := NULL]\n",
    "    dt_aux <- dt_aux[order(r,decreasing = TRUE)]\n",
    "    print(xtable(dt_aux, caption = case), include.rownames = FALSE)\n",
    "}"
   ]
  }
 ],
 "metadata": {
  "kernelspec": {
   "display_name": "R",
   "language": "R",
   "name": "ir"
  },
  "language_info": {
   "codemirror_mode": "r",
   "file_extension": ".r",
   "mimetype": "text/x-r-source",
   "name": "R",
   "pygments_lexer": "r",
   "version": "4.1.2"
  }
 },
 "nbformat": 4,
 "nbformat_minor": 5
}
