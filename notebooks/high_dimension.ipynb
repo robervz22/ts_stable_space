{
 "cells": [
  {
   "cell_type": "markdown",
   "id": "3d94df6a",
   "metadata": {},
   "source": [
    "# High dimensional setting"
   ]
  },
  {
   "cell_type": "markdown",
   "id": "621403e8",
   "metadata": {},
   "source": [
    "The purpose of this notebook it is check the computation time for the simulation study in the high dimensional setting"
   ]
  },
  {
   "cell_type": "markdown",
   "id": "ada6f130",
   "metadata": {
    "vscode": {
     "languageId": "r"
    }
   },
   "source": [
    "First we load the libraries"
   ]
  },
  {
   "cell_type": "code",
   "execution_count": 1,
   "id": "99b48e6e",
   "metadata": {
    "vscode": {
     "languageId": "r"
    }
   },
   "outputs": [],
   "source": [
    "# scripts and libraries\n",
    "remove(list = ls())\n",
    "options(warn = -1)\n",
    "library(data.table)\n",
    "library(magrittr)\n",
    "library(ggplot2)\n",
    "library(latex2exp)\n",
    "library(xtable)\n",
    "\n",
    "source(\"R_scripts/simulations.R\")\n",
    "source(\"R_scripts/vectorial_methods.R\")\n",
    "source(\"R_scripts/auxiliar_methods.R\")"
   ]
  },
  {
   "cell_type": "markdown",
   "id": "6f7e8e6e",
   "metadata": {},
   "source": [
    "Simulation parameters"
   ]
  },
  {
   "cell_type": "code",
   "execution_count": 2,
   "id": "d60b8392",
   "metadata": {
    "vscode": {
     "languageId": "r"
    }
   },
   "outputs": [],
   "source": [
    "Tt <- 100 # series length\n",
    "m <- 300 # series' dimension\n",
    "r <- 250 # stable space's dimension\n",
    "case <- 1 # scenario to consider\n",
    "S <- 500 # number of simulations\n",
    "crit <- \"SC(n)\" # criterio Johansen estimation\n",
    "ec_det <- \"none\" # non trend and seasonality for Johansen procedure\n",
    "pct <- \"5pct\" # Johansen's significance level\n",
    "test <- \"kpss\" # test to use in PLS o PCA options: \"adf\" and \"kpss\"\n",
    "persistence <- \"low\" ; dist <- \"t\" # persistence and innovation process distribution\n",
    "trend <- FALSE # consider a simple linear trend\n",
    "dependence <- TRUE # if we consider a covariance structure in the innovation process\n",
    "seeds <- c(1,1) # seeds for reproducibility\n",
    "sigma <- 1 # equal variance for the non-correlated case\n",
    "methods_colors <- c(\"Johansen\" = \"#fa9f99\",\"PLS\" = \"#4dcf74\", \"PCA\" = \"#90baff\") "
   ]
  },
  {
   "cell_type": "markdown",
   "id": "6690d9fd",
   "metadata": {},
   "source": [
    "Parameters definition"
   ]
  },
  {
   "cell_type": "code",
   "execution_count": 3,
   "id": "6e46a052",
   "metadata": {
    "vscode": {
     "languageId": "r"
    }
   },
   "outputs": [],
   "source": [
    "# Shared Sigma_eps\n",
    "set.seed(seeds[1])  # for reproducibility\n",
    "if (dependence) {\n",
    "  Sigma_eps <- clusterGeneration::genPositiveDefMat(m, covMethod = \"eigen\")$Sigma\n",
    "} else {\n",
    "  Sigma_eps <- sigma * diag(1, m, m)\n",
    "}\n",
    "\n",
    "# Shared stable basis\n",
    "set.seed(seeds[2]+r)  # shared seed for beta, beta_orto, alpha, gamma\n",
    "I_m <- qr.Q(qr(matrix(rnorm(m^2), m, m)))\n",
    "beta <- I_m[, 1:r]\n",
    "beta_orto <- if (r < m) I_m[, (r + 1):m] else matrix(0, m, m)\n",
    "\n",
    "# Alpha and gamma\n",
    "alpha <- if (persistence == \"low\") runif(r, 0.1, 0.3) else runif(r, 0.3, 0.7)\n",
    "gamma <- runif(ncol(beta_orto), -0.7, 0.7)\n",
    "\n",
    "# Integration orders by case\n",
    "orders <- switch(\n",
    "  as.character(case),\n",
    "  \"1\" = c(m, 0),\n",
    "  \"2\" = c(m - 3, 2),\n",
    "  stop(\"Unsupported case\")\n",
    ")\n",
    "i1 <- orders[1]\n",
    "i2 <- orders[2]"
   ]
  },
  {
   "cell_type": "markdown",
   "id": "81359049",
   "metadata": {},
   "source": [
    "Time series simulation"
   ]
  },
  {
   "cell_type": "code",
   "execution_count": 4,
   "id": "faa9e52e",
   "metadata": {
    "vscode": {
     "languageId": "r"
    }
   },
   "outputs": [
    {
     "name": "stderr",
     "output_type": "stream",
     "text": [
      "Registered S3 method overwritten by 'quantmod':\n",
      "  method            from\n",
      "  as.zoo.data.frame zoo \n",
      "\n"
     ]
    }
   ],
   "source": [
    "set.seed(1)\n",
    "epsilon <- if (dist == \"normal\") {\n",
    "    if (trend) {\n",
    "      portes::varima.sim(n = Tt + 100, k = m, sigma = Sigma_eps, trend = rep(0.05, m), demean = rep(0, m))\n",
    "    } else {\n",
    "      portes::varima.sim(n = Tt + 100, k = m, sigma = Sigma_eps, demean = rep(0, m))\n",
    "    }\n",
    "  } else if (dist == \"t\") {\n",
    "    if (trend) {\n",
    "      portes::varima.sim(n = Tt + 100, k = m, sigma = Sigma_eps, trend = rep(0.05, m), innov.dist = \"t\", dft = 3, demean = rep(0, m))\n",
    "    } else {\n",
    "      portes::varima.sim(n = Tt + 100, k = m, sigma = Sigma_eps, innov.dist = \"t\", dft = 3, demean = rep(0, m))\n",
    "    }\n",
    "  }\n",
    "\n",
    "# Simulate X using the improved core\n",
    "X_sim <- X_simulation(seed = 1,\n",
    "m = m, r = r, Tt = Tt + 100,\n",
    "beta = beta, beta_orto = beta_orto,\n",
    "alpha = alpha, gamma = gamma, Sigma_eps = Sigma_eps,\n",
    "mix = TRUE, dist = dist, trend = trend)(i1,i2)\n",
    "\n",
    "beta_teo <- X_sim$beta\n",
    "X <- ts(scale(X_sim$X[101:nrow(X_sim$X), ]))  # remove burn-in\n",
    "XX <- X[1:(nrow(X) - 1), ]\n",
    "Y <- X[2:nrow(X), ]"
   ]
  },
  {
   "cell_type": "markdown",
   "id": "c3c3a05f",
   "metadata": {},
   "source": [
    "Now, we apply the PLS and PCA method"
   ]
  }
 ],
 "metadata": {
  "kernelspec": {
   "display_name": "R",
   "language": "R",
   "name": "ir"
  },
  "language_info": {
   "codemirror_mode": "r",
   "file_extension": ".r",
   "mimetype": "text/x-r-source",
   "name": "R",
   "pygments_lexer": "r",
   "version": "4.1.2"
  }
 },
 "nbformat": 4,
 "nbformat_minor": 5
}
