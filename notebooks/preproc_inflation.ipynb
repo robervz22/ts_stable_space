{
 "cells": [
  {
   "cell_type": "markdown",
   "metadata": {},
   "source": [
    "# Preprocessing Practical Example\n"
   ]
  },
  {
   "cell_type": "markdown",
   "metadata": {},
   "source": [
    "## Low dimensional"
   ]
  },
  {
   "cell_type": "markdown",
   "metadata": {
    "vscode": {
     "languageId": "r"
    }
   },
   "source": [
    "In this notebook, we preprocess the data from the National Institute of Statistics and Geography (INEGI) regarding the components associated with the inflation in Mexico.\n"
   ]
  },
  {
   "cell_type": "code",
   "execution_count": 1,
   "metadata": {
    "vscode": {
     "languageId": "r"
    }
   },
   "outputs": [],
   "source": [
    "# packages\n",
    "remove(list = ls())\n",
    "options(warn = -1)\n",
    "suppressMessages(library(data.table))\n",
    "suppressMessages(library(magrittr))\n",
    "suppressMessages(library(imputeTS))\n",
    "suppressMessages(library(seasonal))\n",
    "\n",
    "\n",
    "source(\"../source/simulations.R\")\n",
    "source(\"../source/vectorial_methods.R\")\n",
    "source(\"../source/auxiliar_methods.R\")"
   ]
  },
  {
   "cell_type": "markdown",
   "metadata": {},
   "source": [
    "We read the databases"
   ]
  },
  {
   "cell_type": "code",
   "execution_count": 2,
   "metadata": {
    "vscode": {
     "languageId": "r"
    }
   },
   "outputs": [],
   "source": [
    "# Raw data\n",
    "df_inflation <- read.csv(\"../databases/data_inflation.csv\", header = TRUE, row.names = 1)\n",
    "catalogue_inflation <- read.csv(\"../databases/catalogue_inflation.csv\")\n",
    "df_inflation <- na.omit(df_inflation)"
   ]
  },
  {
   "cell_type": "markdown",
   "metadata": {},
   "source": [
    "The database is:\n",
    "\n",
    "- `data_inflation.csv`: Different variables associated with the inflation.\n",
    "\n",
    "We use the period of time where all the variables are available, this period is since January 2005\n"
   ]
  },
  {
   "cell_type": "markdown",
   "metadata": {},
   "source": [
    "The detail information of each variables is in `catalogue_inflation.csv`.\n"
   ]
  },
  {
   "cell_type": "code",
   "execution_count": 3,
   "metadata": {
    "vscode": {
     "languageId": "r"
    }
   },
   "outputs": [],
   "source": [
    "#############\n",
    "# TS format #\n",
    "#############\n",
    "start <- \"2005/01\"\n",
    "d <- 12\n",
    "\n",
    "# dates\n",
    "dates_inflation <- rownames(df_inflation)[which(rownames(df_inflation) == start):nrow(df_inflation)]\n",
    "df_inflation <- df_inflation[dates_inflation, ]\n",
    "variables_inflation <- colnames(df_inflation)\n",
    "\n",
    "# nans\n",
    "for (i in 1:length(variables_inflation)) {\n",
    "  ts_aux <- ts(df_inflation[, variables_inflation[i]][!is.na(df_inflation[, variables_inflation[i]])],\n",
    "    start = as.numeric(substring(start, 1, 4)), frequency = d\n",
    "  )\n",
    "  df_inflation[1:length(ts_aux), variables_inflation[i]] <- ts_aux\n",
    "}\n",
    "df_inflation <- na_kalman(df_inflation)"
   ]
  },
  {
   "cell_type": "markdown",
   "metadata": {},
   "source": [
    "We use the logarithm of `BYM`\n"
   ]
  },
  {
   "cell_type": "code",
   "execution_count": 4,
   "metadata": {
    "vscode": {
     "languageId": "r"
    }
   },
   "outputs": [],
   "source": [
    "df_inflation[, \"BYM\"] <- log(df_inflation[, \"BYM\"])"
   ]
  },
  {
   "cell_type": "markdown",
   "metadata": {},
   "source": [
    "The basic assumptions in the paper are that the data does not have an *stational* neither a *deterministic* component. \n",
    "\n",
    "First, we use the suggestion in the paper removing a linear trend.\n"
   ]
  },
  {
   "cell_type": "code",
   "execution_count": 5,
   "metadata": {
    "vscode": {
     "languageId": "r"
    }
   },
   "outputs": [],
   "source": [
    "#################\n",
    "# linear trends #\n",
    "#################\n",
    "data_trend <- matrix(0, nrow = nrow(df_inflation), ncol = ncol(df_inflation))\n",
    "coefs_trend <- matrix(0, nrow = ncol(df_inflation), ncol = 2)\n",
    "colnames(data_trend) <- colnames(df_inflation)\n",
    "rownames(coefs_trend) <- colnames(df_inflation)\n",
    "colnames(coefs_trend) <- c(\"const\", \"slope\")\n",
    "\n",
    "alpha <- 0.05 # nivel de significancia de los coeficientes\n",
    "\n",
    "time <- 1:nrow(df_inflation)\n",
    "log_time <- log(time)\n",
    "\n",
    "for (i in 1:length(variables_inflation)) {\n",
    "    aux_reg <- lm(df_inflation[, variables_inflation[i]] ~ time)\n",
    "    summary_aux_reg <- summary(aux_reg)$coefficients\n",
    "    # coefs\n",
    "    if (summary_aux_reg[, 4][[1]] < alpha) coefs_trend[variables_inflation[i], \"const\"] <- aux_reg$coef[[1]]\n",
    "    if (summary_aux_reg[, 4][[2]] < alpha) coefs_trend[variables_inflation[i], \"slope\"] <- aux_reg$coef[[2]]\n",
    "    # detrend\n",
    "    data_trend[, variables_inflation[i]] <- coefs_trend[i, \"const\"] + coefs_trend[i, \"slope\"] * time\n",
    "    # update\n",
    "    df_inflation[, variables_inflation[i]] <- df_inflation[, variables_inflation[i]] - data_trend[, variables_inflation[i]]\n",
    "}"
   ]
  },
  {
   "cell_type": "markdown",
   "metadata": {},
   "source": [
    "Now, we do the same using the stational flag  `Seas` in `catalogue_inflation.csv`\n"
   ]
  },
  {
   "cell_type": "code",
   "execution_count": 6,
   "metadata": {
    "vscode": {
     "languageId": "r"
    }
   },
   "outputs": [],
   "source": [
    "###############\n",
    "# seasonality #\n",
    "###############\n",
    "data_seasonality <- matrix(0, nrow = nrow(df_inflation), ncol = ncol(df_inflation))\n",
    "colnames(data_seasonality) <- colnames(df_inflation)\n",
    "\n",
    "# stationality indicator\n",
    "ind_seas <- as.character(catalogue_inflation[catalogue_inflation[, \"Seas\"] == 1, \"Variables\"])\n",
    "\n",
    "# decomposition\n",
    "for (i in 1:length(ind_seas)) {\n",
    "    ts_aux <- ts(df_inflation[, ind_seas[i]], start = as.numeric(substring(start, 1, 4)), frequency = d)\n",
    "    descomp_aux <- decompose(ts_aux)\n",
    "\n",
    "    # seasonal component\n",
    "    data_seasonality[, ind_seas[i]] <- descomp_aux$seasonal\n",
    "\n",
    "    # stochastic part\n",
    "    df_inflation[, ind_seas[i]] <- df_inflation[, ind_seas[i]] - descomp_aux$seasonal\n",
    "}\n",
    "df_inflation <- apply(df_inflation, 2, function(x) x - mean(x, na.rm = TRUE))"
   ]
  },
  {
   "cell_type": "markdown",
   "metadata": {},
   "source": [
    "Testing for stationary on each serie"
   ]
  },
  {
   "cell_type": "code",
   "execution_count": 7,
   "metadata": {
    "vscode": {
     "languageId": "r"
    }
   },
   "outputs": [
    {
     "data": {
      "text/plain": [
       "    P     U   BYM     E     R     W  PUSA \n",
       "0.010 0.021 0.100 0.085 0.018 0.010 0.060 "
      ]
     },
     "metadata": {},
     "output_type": "display_data"
    }
   ],
   "source": [
    "df_inflation <- na.omit(df_inflation)\n",
    "as.table(round(apply(df_inflation, 2, function(x) tseries::kpss.test(x)$p.value), digits = 3))"
   ]
  },
  {
   "cell_type": "markdown",
   "metadata": {},
   "source": [
    "We save the preprocess dataset with the name `variables_inflation.csv` on `databases` directory.\n"
   ]
  },
  {
   "cell_type": "code",
   "execution_count": 8,
   "metadata": {
    "vscode": {
     "languageId": "r"
    }
   },
   "outputs": [],
   "source": [
    "dt_inflation <- as.data.table(df_inflation)\n",
    "dt_inflation[,Date:= lubridate::ym(dates_inflation)]\n",
    "setcolorder(dt_inflation, c(\"Date\", setdiff(names(dt_inflation), \"Date\")))\n",
    "fwrite(dt_inflation,file = \"../databases/variables_inflation.csv\")"
   ]
  }
 ],
 "metadata": {
  "kernelspec": {
   "display_name": "R",
   "language": "R",
   "name": "ir"
  },
  "language_info": {
   "codemirror_mode": "r",
   "file_extension": ".r",
   "mimetype": "text/x-r-source",
   "name": "R",
   "pygments_lexer": "r",
   "version": "4.1.2"
  }
 },
 "nbformat": 4,
 "nbformat_minor": 2
}
