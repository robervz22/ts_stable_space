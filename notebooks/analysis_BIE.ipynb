{
 "cells": [
  {
   "cell_type": "markdown",
   "id": "f3acb87f",
   "metadata": {},
   "source": [
    "# Practical Example"
   ]
  },
  {
   "cell_type": "markdown",
   "id": "110c402a",
   "metadata": {},
   "source": [
    "## High dimension"
   ]
  },
  {
   "cell_type": "markdown",
   "id": "fe7364d6",
   "metadata": {
    "vscode": {
     "languageId": "r"
    }
   },
   "source": [
    "The practical example consists of the stable space estimation for a multivariate time series that contains the information of 205 economic indicators since January 2017 "
   ]
  },
  {
   "cell_type": "code",
   "execution_count": 1,
   "id": "9747e0c7",
   "metadata": {
    "vscode": {
     "languageId": "r"
    }
   },
   "outputs": [],
   "source": [
    "# packages\n",
    "remove(list = ls())\n",
    "options(warn = -1)\n",
    "suppressMessages(library(data.table))\n",
    "suppressMessages(library(dplyr))\n",
    "suppressMessages(library(tidyr))\n",
    "suppressMessages(library(ggplot2))\n",
    "suppressMessages(library(xtable))\n",
    "\n",
    "source(\"../source/simulations.R\")\n",
    "source(\"../source/vectorial_methods.R\")\n",
    "source(\"../source/auxiliar_methods.R\")"
   ]
  },
  {
   "cell_type": "markdown",
   "id": "bc409c2d",
   "metadata": {},
   "source": [
    "## Several econonomic indicators in Mexico"
   ]
  },
  {
   "cell_type": "code",
   "execution_count": 2,
   "id": "36c8f63d",
   "metadata": {
    "vscode": {
     "languageId": "r"
    }
   },
   "outputs": [],
   "source": [
    "# Variables BIE\n",
    "dt_BIE <- data.table::fread(\"../databases/variables_BIE.csv\")\n",
    "catalogue_BIE <- data.table::fread(\"../databases/catalogue_BIE.csv\")"
   ]
  },
  {
   "cell_type": "markdown",
   "id": "0ffd322f",
   "metadata": {},
   "source": [
    "We centered the columns of the series, and we get the auxiliary blocks for the methods"
   ]
  },
  {
   "cell_type": "code",
   "execution_count": 3,
   "id": "f0c945fd",
   "metadata": {
    "vscode": {
     "languageId": "r"
    }
   },
   "outputs": [],
   "source": [
    "X_BIE <- as.matrix(dt_BIE, rownames = \"Date\")\n",
    "rownames(X_BIE) <- NULL\n",
    "# X_BIE <- scale(ts(X_BIE))\n",
    "XX_BIE <- X_BIE[1:(nrow(X_BIE)-1),]\n",
    "Y_BIE <- X_BIE[2:nrow(X_BIE),]"
   ]
  },
  {
   "cell_type": "markdown",
   "id": "ca7fba31",
   "metadata": {},
   "source": [
    "We check the order of integration of each variable. We count the number of series between the $m$ series that are $\\textsf{I}(0)$, $\\textsf{I}(1)$ and $\\textsf{I}(2)$"
   ]
  },
  {
   "cell_type": "code",
   "execution_count": 4,
   "id": "341a21ee",
   "metadata": {
    "vscode": {
     "languageId": "r"
    }
   },
   "outputs": [
    {
     "name": "stderr",
     "output_type": "stream",
     "text": [
      "Registered S3 method overwritten by 'quantmod':\n",
      "  method            from\n",
      "  as.zoo.data.frame zoo \n",
      "\n"
     ]
    },
    {
     "name": "stdout",
     "output_type": "stream",
     "text": [
      "Number of I(0) series: 185 \n",
      "Number of I(1) series: 19 \n",
      "Number of I(2) series: 1 \n"
     ]
    }
   ],
   "source": [
    "aux <- X_BIE\n",
    "\n",
    "# Step 1: Collect p-values for level, first difference, second difference\n",
    "pvals_level <- apply(aux, 2, function(x) tryCatch(tseries::kpss.test(x)$p.value, error = function(e) NA))\n",
    "pvals_diff1 <- apply(aux, 2, function(x) tryCatch(tseries::kpss.test(diff(x))$p.value, error = function(e) NA))\n",
    "pvals_diff2 <- apply(aux, 2, function(x) tryCatch(tseries::kpss.test(diff(diff(x)))$p.value, error = function(e) NA))\n",
    "\n",
    "# Step 2: Classify integration order\n",
    "I0 <- which(pvals_level  > 0.05)\n",
    "I1 <- which(pvals_level <= 0.05 & pvals_diff1 > 0.05)\n",
    "I2 <- which(pvals_level <= 0.05 & pvals_diff1 <= 0.05 & pvals_diff2 > 0.05)\n",
    "\n",
    "# Step 3: Report counts\n",
    "cat(\"Number of I(0) series:\", length(I0), \"\\n\")\n",
    "cat(\"Number of I(1) series:\", length(I1), \"\\n\")\n",
    "cat(\"Number of I(2) series:\", length(I2), \"\\n\")\n"
   ]
  },
  {
   "cell_type": "markdown",
   "id": "16b18b12",
   "metadata": {},
   "source": [
    "We estimate the stable space for this multivariate time series using the methods\n",
    "- PCA\n",
    "- SPCA\n",
    "- PLS"
   ]
  },
  {
   "cell_type": "code",
   "execution_count": 5,
   "id": "18497dff",
   "metadata": {
    "vscode": {
     "languageId": "r"
    }
   },
   "outputs": [],
   "source": [
    "basis_BIE_PLS <- basis_stable(X_BIE, method = \"pls\")\n",
    "basis_BIE_PCA <- basis_stable(scale(X_BIE),method=\"pca\")\n",
    "# SPCA\n",
    "spca_para <- 1\n",
    "basis_BIE_SPCA <- basis_stable(scale(X_BIE),method = \"spca\", \n",
    "                                        spca_engine = \"elasticnet\",\n",
    "                                        spca_sparse = \"penalty\",\n",
    "                                        spca_para = spca_para)\n"
   ]
  },
  {
   "cell_type": "markdown",
   "id": "a6e609e6",
   "metadata": {},
   "source": [
    "We check the estimated stable space dimension"
   ]
  },
  {
   "cell_type": "code",
   "execution_count": 6,
   "id": "a728ca3e",
   "metadata": {
    "vscode": {
     "languageId": "r"
    }
   },
   "outputs": [
    {
     "name": "stdout",
     "output_type": "stream",
     "text": [
      "The PLS estimated dimension is:  191\n",
      "The PCA estimated dimension is:  196\n",
      "The SPCA estimated dimension is:  81"
     ]
    }
   ],
   "source": [
    "cat(\"The PLS estimated dimension is: \", ncol(basis_BIE_PLS$basis_S))\n",
    "cat(\"\\nThe PCA estimated dimension is: \", ncol(basis_BIE_PCA$basis_S))\n",
    "cat(\"\\nThe SPCA estimated dimension is: \", ncol(basis_BIE_SPCA$basis_S))"
   ]
  },
  {
   "cell_type": "code",
   "execution_count": 7,
   "id": "f339e8e8",
   "metadata": {
    "vscode": {
     "languageId": "r"
    }
   },
   "outputs": [],
   "source": [
    "vecs_PLS <- pls_alg(X_BIE)\n",
    "vecs_PCA <- pca_alg(scale(X_BIE))\n",
    "vecs_SPCA <- spca_alg(scale(X_BIE), engine = \"elasticnet\", \n",
    "                                    sparse = \"penalty\", para = spca_para)"
   ]
  },
  {
   "cell_type": "code",
   "execution_count": 28,
   "id": "44c38ed2",
   "metadata": {
    "vscode": {
     "languageId": "r"
    }
   },
   "outputs": [
    {
     "data": {
      "text/html": [
       "<style>\n",
       ".list-inline {list-style: none; margin:0; padding: 0}\n",
       ".list-inline>li {display: inline-block}\n",
       ".list-inline>li:not(:last-child)::after {content: \"\\00b7\"; padding: 0 .5ex}\n",
       "</style>\n",
       "<ol class=list-inline><li>205</li><li>196</li></ol>\n"
      ],
      "text/latex": [
       "\\begin{enumerate*}\n",
       "\\item 205\n",
       "\\item 196\n",
       "\\end{enumerate*}\n"
      ],
      "text/markdown": [
       "1. 205\n",
       "2. 196\n",
       "\n",
       "\n"
      ],
      "text/plain": [
       "[1] 205 196"
      ]
     },
     "metadata": {},
     "output_type": "display_data"
    }
   ],
   "source": [
    "dim(basis_BIE_PCA$basis_S)"
   ]
  },
  {
   "cell_type": "code",
   "execution_count": 25,
   "id": "9d23a7df",
   "metadata": {
    "vscode": {
     "languageId": "r"
    }
   },
   "outputs": [
    {
     "data": {
      "text/html": [
       "<style>\n",
       ".list-inline {list-style: none; margin:0; padding: 0}\n",
       ".list-inline>li {display: inline-block}\n",
       ".list-inline>li:not(:last-child)::after {content: \"\\00b7\"; padding: 0 .5ex}\n",
       "</style>\n",
       "<ol class=list-inline><li>205</li><li>205</li></ol>\n"
      ],
      "text/latex": [
       "\\begin{enumerate*}\n",
       "\\item 205\n",
       "\\item 205\n",
       "\\end{enumerate*}\n"
      ],
      "text/markdown": [
       "1. 205\n",
       "2. 205\n",
       "\n",
       "\n"
      ],
      "text/plain": [
       "[1] 205 205"
      ]
     },
     "metadata": {},
     "output_type": "display_data"
    }
   ],
   "source": [
    "dim(vecs_SPCA)"
   ]
  },
  {
   "cell_type": "markdown",
   "id": "bda5d3ef",
   "metadata": {},
   "source": [
    "## Projection Error"
   ]
  },
  {
   "cell_type": "markdown",
   "id": "0c616514",
   "metadata": {},
   "source": [
    "We calculate the proyection onto the first two stable components. We also consider the first two principal components."
   ]
  },
  {
   "cell_type": "code",
   "execution_count": 8,
   "id": "54028bf5",
   "metadata": {
    "vscode": {
     "languageId": "r"
    }
   },
   "outputs": [],
   "source": [
    "# PLS\n",
    "T_scores_PLS <- XX_BIE%*%basis_BIE_PLS$weights_S \n",
    "Y_est_PLS <- scores_rebuilt(T_scores_PLS[,1:2],Y=Y_BIE)\n",
    "\n",
    "# PCA\n",
    "T_scores_PCA <- XX_BIE%*%basis_BIE_PCA$basis_S\n",
    "Y_est_PCA <- scores_rebuilt(T_scores_PCA[,1:2],Y=Y_BIE)\n",
    "\n",
    "# SPCA\n",
    "T_scores_SPCA <- XX_BIE%*%basis_BIE_SPCA$basis_S\n",
    "Y_est_SPCA <- scores_rebuilt(T_scores_SPCA[,1:2],Y=Y_BIE)\n",
    "\n",
    "# PCA with the first two non-stable components\n",
    "T_scores_PCA_non_stable <- XX_BIE%*%basis_BIE_PCA$basis_N[,1:2]\n",
    "Y_est_PCA_non_stable <- scores_rebuilt(T_scores_PCA_non_stable[,1:2],Y=Y_BIE)\n",
    "\n",
    "# PLS with the first two non-stable components\n",
    "T_scores_PLS_non_stable <- XX_BIE%*%basis_BIE_PLS$basis_N[,1:2]\n",
    "Y_est_PLS_non_stable <- scores_rebuilt(T_scores_PLS_non_stable[,1:2],Y=Y_BIE)\n",
    "\n",
    "# SPCA with the first two non-stable components\n",
    "T_scores_SPCA_non_stable <- XX_BIE%*%basis_BIE_SPCA$basis_N[,1:2]\n",
    "Y_est_SPCA_non_stable <- scores_rebuilt(T_scores_SPCA_non_stable[,1:2],Y=Y_BIE)"
   ]
  },
  {
   "cell_type": "markdown",
   "id": "cf036b03",
   "metadata": {},
   "source": [
    "We could calculate the normalized MSE for each serie"
   ]
  },
  {
   "cell_type": "code",
   "execution_count": 9,
   "id": "97a0fa8c",
   "metadata": {
    "vscode": {
     "languageId": "r"
    }
   },
   "outputs": [],
   "source": [
    "MSE <- matrix(0,ncol(Y_BIE),6) \n",
    "colnames(MSE) <- c(\"non-stable PCA\",\"stationary PCA\",\n",
    "                   \"non-stable PLS\",\"stationary PLS\",\n",
    "                   \"non-stable SPCA\", \"stationary SPCA\")\n",
    "rownames(MSE) <- colnames(Y_BIE)\n",
    "\n",
    "# error estimation\n",
    "MSE[,\"stationary PLS\"] <- VNMSE_(Y_BIE,Y_est_PLS$est)\n",
    "MSE[,\"stationary PCA\"] <- VNMSE_(Y_BIE,Y_est_PCA$est)\n",
    "MSE[,\"non-stable PCA\"] <- VNMSE_(Y_BIE,Y_est_PCA_non_stable$est)\n",
    "MSE[,\"non-stable PLS\"] <- VNMSE_(Y_BIE,Y_est_PLS_non_stable$est)\n",
    "MSE[,\"stationary SPCA\"] <- VNMSE_(Y_BIE,Y_est_SPCA$est)\n",
    "MSE[,\"non-stable SPCA\"] <- VNMSE_(Y_BIE,Y_est_SPCA_non_stable$est)"
   ]
  },
  {
   "cell_type": "markdown",
   "id": "bdebc962",
   "metadata": {},
   "source": [
    "Print the results of the estimation using the first two non-stable components and the first two stable components."
   ]
  },
  {
   "cell_type": "code",
   "execution_count": 10,
   "id": "38e4a340",
   "metadata": {
    "vscode": {
     "languageId": "r"
    }
   },
   "outputs": [
    {
     "name": "stdout",
     "output_type": "stream",
     "text": [
      "% latex table generated in R 4.1.2 by xtable 1.8-4 package\n",
      "% Sat Sep  6 11:01:41 2025\n",
      "\\begin{table}[ht]\n",
      "\\centering\n",
      "\\begin{tabular}{rrrrrrr}\n",
      "  \\hline\n",
      " & non-stable PCA & stationary PCA & non-stable PLS & stationary PLS & non-stable SPCA & stationary SPCA \\\\ \n",
      "  \\hline\n",
      "s23 & 0.30 & 0.43 & 0.36 & 0.44 & 0.30 & 0.42 \\\\ \n",
      "  imaief\\_Hgo & 0.43 & 0.64 & 0.42 & 0.60 & 0.42 & 0.63 \\\\ \n",
      "  imaief\\_SLP & 0.52 & 0.54 & 0.53 & 0.54 & 0.51 & 0.54 \\\\ \n",
      "  s54 & 0.52 & 0.58 & 0.63 & 0.61 & 0.52 & 0.56 \\\\ \n",
      "  rem\\_cmenor & 0.30 & 0.44 & 0.45 & 0.47 & 0.29 & 0.42 \\\\ \n",
      "   \\hline\n",
      "\\end{tabular}\n",
      "\\end{table}\n"
     ]
    }
   ],
   "source": [
    "print(xtable(MSE[c(\"s23\",head(names(I1),3),names(I2)),],digits = 2))"
   ]
  },
  {
   "cell_type": "markdown",
   "id": "b1cbfed8",
   "metadata": {},
   "source": [
    "We choose two series $\\textsf{I}(1)$ for visualisation"
   ]
  },
  {
   "cell_type": "code",
   "execution_count": 11,
   "id": "95f0ba20",
   "metadata": {
    "vscode": {
     "languageId": "r"
    }
   },
   "outputs": [],
   "source": [
    "options(repr.plot.width = 9, repr.plot.height = 6)"
   ]
  },
  {
   "cell_type": "code",
   "execution_count": 12,
   "id": "233dcb85",
   "metadata": {
    "vscode": {
     "languageId": "r"
    }
   },
   "outputs": [],
   "source": [
    "dates <- dt_BIE[,Date][2:nrow(dt_BIE)]\n",
    "\n",
    "# Color-blind safe palette (Okabe-Ito + black for observed)\n",
    "custom_palette <- c(\n",
    "  \"stationary PLS\"  = \"#56B4E9\",  # sky blue\n",
    "  \"stationary PCA\"  = \"#009E73\",  # bluish green\n",
    "  \"Observed\"        = \"black\",    # black\n",
    "  \"stationary SPCA\" = \"#CC79A7\",  # reddish purple\n",
    "  \n",
    "  # Non-stable components (newly adjusted to Okabe-Ito safe colours)\n",
    "  \"non-stable PCA\"  = \"#0072B2\",  # blue\n",
    "  \"non-stable PLS\"  = \"#D55E00\",  # vermillion\n",
    "  \"non-stable SPCA\" = \"#999999\"   # grey\n",
    ")\n",
    "\n",
    "# Linetypes for better distinction\n",
    "custom_linetypes <- c(\n",
    "  \"Observed\"        = \"solid\",\n",
    "  \"stationary PCA\"  = \"dotdash\",\n",
    "  \"stationary PLS\"  = \"dotted\",\n",
    "  \"stationary SPCA\" = \"twodash\",\n",
    "  # Non-stable components (completing your request)\n",
    "  \"non-stable PCA\"  = \"dashed\",\n",
    "  \"non-stable PLS\"  = \"dotdash\",\n",
    "  \"non-stable SPCA\" = \"dotted\"\n",
    ")\n",
    "\n",
    "\n",
    "gg_methods_fit <- plot_estimates_comparison(\n",
    "                    Y_obs = Y_BIE,\n",
    "                    Y_est_list = list(`stationary PLS` = Y_est_PLS$est, `stationary PCA` = Y_est_PCA$est, `non-stable PCA` = Y_est_PCA_non_stable$est,\n",
    "                    `non-stable PLS` = Y_est_PLS_non_stable$est, `stationary SPCA` = Y_est_SPCA$est, `non-stable SPCA` = Y_est_SPCA_non_stable$est),\n",
    "                    col_names = c(\"s23\",\"s54\"),\n",
    "                    labels = c(\"stationary PLS\", \"stationary PCA\", \"stationary SPCA\",\n",
    "                                \"non-stable PCA\", \"non-stable PLS\", \"non-stable SPCA\"),  # optional if list has names\n",
    "                    dates = dates,\n",
    "                    method_palette = custom_palette,\n",
    "                    method_linetypes = custom_linetypes\n",
    "                  )\n",
    "\n",
    "ggsave(\n",
    "  filename = \"../images/Figure_6.pdf\",\n",
    "  plot = gg_methods_fit,\n",
    "  device = \"pdf\",\n",
    "  width = 12,   # scale by relative widths (e.g., 1.45 units × 4 inches per unit)\n",
    "  height = 8,         # set a reasonable height (adjust if needed)\n",
    "  units = \"in\", dpi = 300)"
   ]
  }
 ],
 "metadata": {
  "kernelspec": {
   "display_name": "R",
   "language": "R",
   "name": "ir"
  },
  "language_info": {
   "codemirror_mode": "r",
   "file_extension": ".r",
   "mimetype": "text/x-r-source",
   "name": "R",
   "pygments_lexer": "r",
   "version": "4.1.2"
  }
 },
 "nbformat": 4,
 "nbformat_minor": 5
}
